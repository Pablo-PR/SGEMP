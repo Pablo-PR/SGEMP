{
  "nbformat": 4,
  "nbformat_minor": 0,
  "metadata": {
    "colab": {
      "name": "5.0.ActRefuerzo_1.ipynb",
      "provenance": [],
      "collapsed_sections": []
    },
    "kernelspec": {
      "name": "python3",
      "display_name": "Python 3"
    },
    "language_info": {
      "name": "python"
    }
  },
  "cells": [
    {
      "cell_type": "markdown",
      "source": [
        "<img src=\"https://www.python.org/static/img/python-logo@2x.png\">\n",
        "\n",
        "---\n",
        "\n",
        "\n",
        "<h2>\n",
        "A continuación se proponen diferentes actividades que van incrementando en nivel para practicar la programación en Python.</h2>\n",
        "\n",
        "\n",
        "---\n",
        "❗ __Cuidad la forma de mostrar la información, es decir, todo dato que salga por pantalla debe estar formateado, bien expresado y con información clara que indique lo que se está mostrando.__\n",
        "\n"
      ],
      "metadata": {
        "id": "IgESlymxlmOR"
      }
    },
    {
      "cell_type": "markdown",
      "source": [
        "# Level 1 💪"
      ],
      "metadata": {
        "id": "bPyM8Z3CorKd"
      }
    },
    {
      "cell_type": "markdown",
      "source": [
        "🍀 **(1)** Pide por teclado un número del 1 al 10 y muestra la tabla de multiplicar de ese número.\n",
        "\n",
        "Debe comprobar que el número introducido está entre 1 y 10, sino es así, debe informar del error."
      ],
      "metadata": {
        "id": "yvMEpJ4gmPzi"
      }
    },
    {
      "cell_type": "code",
      "execution_count": null,
      "metadata": {
        "id": "mYVr0495mKEB",
        "colab": {
          "base_uri": "https://localhost:8080/"
        },
        "outputId": "f91b43b1-6da8-4ec2-cf80-3877b42a4d6d"
      },
      "outputs": [
        {
          "output_type": "stream",
          "name": "stdout",
          "text": [
            "Introduce un número del 1 al 10: 8\n",
            "8 X 1 = 8\n",
            "8 X 2 = 16\n",
            "8 X 3 = 24\n",
            "8 X 4 = 32\n",
            "8 X 5 = 40\n",
            "8 X 6 = 48\n",
            "8 X 7 = 56\n",
            "8 X 8 = 64\n",
            "8 X 9 = 72\n",
            "8 X 10 = 80\n"
          ]
        }
      ],
      "source": [
        "numero = -1\n",
        "while numero < 1 or numero > 10:\n",
        "  numero = int(input(\"Introduce un número del 1 al 10: \"))\n",
        "\n",
        "for x in range(1,11):\n",
        "  print(numero, \"X\", x, \"=\", numero*x)"
      ]
    },
    {
      "cell_type": "markdown",
      "source": [
        "🍀 **(2)** Pide por teclado dos números, si el primero es mayor al segundo muestra su suma y diferencia, en caso contrario muestra el producto y la división del primero respecto al segundo."
      ],
      "metadata": {
        "id": "bQy0DlNFnIvs"
      }
    },
    {
      "cell_type": "code",
      "source": [
        "num1 = int(input(\"Primer número: \"))\n",
        "num2 = int(input(\"Segundo número: \"))\n",
        "\n",
        "if num1 > num2:\n",
        "  print(\"Suma:\", num1 + num2)\n",
        "  print(\"Resta:\", num1 - num2)\n",
        "else:\n",
        "  print(\"Multiplicación:\", num1 * num2)\n",
        "  print(\"División:\", num1 / num2)"
      ],
      "metadata": {
        "id": "e64T0bblnaOc",
        "colab": {
          "base_uri": "https://localhost:8080/"
        },
        "outputId": "b5c133a5-d28c-4ed6-9ccf-8e3bdfb6ab9a"
      },
      "execution_count": null,
      "outputs": [
        {
          "output_type": "stream",
          "name": "stdout",
          "text": [
            "Primer número: 6\n",
            "Segundo número: 4\n",
            "Suma: 10\n",
            "Resta: 2\n"
          ]
        }
      ]
    },
    {
      "cell_type": "markdown",
      "source": [
        "🍀 **(3)** Se pide por teclado 3 números distintos. Mostrar por pantalla el mayor de ellos. "
      ],
      "metadata": {
        "id": "LeIkm7JNnaw0"
      }
    },
    {
      "cell_type": "code",
      "source": [
        "list = []\n",
        "\n",
        "for x in range(1,4):\n",
        "  num = int(input(\"Introduce un número: \"))\n",
        "  list.append(num)\n",
        "\n",
        "print(\"El mayor de los números introducidos es el\", max(list))"
      ],
      "metadata": {
        "id": "Qm7qcfz0nnKq",
        "colab": {
          "base_uri": "https://localhost:8080/"
        },
        "outputId": "cc0c98ba-80ae-4eb9-dd7b-2ffcec2b858d"
      },
      "execution_count": null,
      "outputs": [
        {
          "output_type": "stream",
          "name": "stdout",
          "text": [
            "Introduce un número: 56\n",
            "Introduce un número: 34\n",
            "Introduce un número: 55\n",
            "El mayor de los números introducidos es el 56\n"
          ]
        }
      ]
    },
    {
      "cell_type": "markdown",
      "source": [
        "🍀 **(4)** Se pide por teclado un numéro, ese número indica cuntos números más se debe pedir. Se pide tantos números como se indicó en primer lugar y debe mostrar el mayor y el menor número introducido.\n"
      ],
      "metadata": {
        "id": "G9J3TRDrnntS"
      }
    },
    {
      "cell_type": "code",
      "source": [
        "num = int(input(\"Introduce la cantidad de números: \"))\n",
        "list = []\n",
        "\n",
        "for x in range(1, num+1):\n",
        "  numero = int(input(\"Introduce un número: \"))\n",
        "  list.append(numero)\n",
        "\n",
        "print(\"El mayor de los números introducidos es el\", max(list))\n",
        "print(\"El menor de los números introducidos es el\", min(list))"
      ],
      "metadata": {
        "id": "MSki2XYUn5n5",
        "colab": {
          "base_uri": "https://localhost:8080/"
        },
        "outputId": "75980698-fb6e-437e-f0c2-c0109cca8da3"
      },
      "execution_count": null,
      "outputs": [
        {
          "output_type": "stream",
          "name": "stdout",
          "text": [
            "Introduce la cantidad de números: 6\n",
            "Introduce un número: 3\n",
            "Introduce un número: 4\n",
            "Introduce un número: 5\n",
            "Introduce un número: 6\n",
            "Introduce un número: 7\n",
            "Introduce un número: 8\n",
            "El mayor de los números introducidos es el 8\n",
            "El menor de los números introducidos es el 3\n"
          ]
        }
      ]
    },
    {
      "cell_type": "markdown",
      "source": [
        "🍀 **(5)** Se pide una palabra por teclado y se debe decir si la palabra es [palindroma](https://es.wikipedia.org/wiki/Pal%C3%ADndromo) o no."
      ],
      "metadata": {
        "id": "78a7Zbu9kIdu"
      }
    },
    {
      "cell_type": "code",
      "source": [
        "palabra = input(\"Introduce una palabra: \").lower()\n",
        "\n",
        "if palabra == palabra[::-1]:\n",
        "  print(\"La palabra es palíndroma\")\n",
        "else:\n",
        "  print(\"La palabra no es palíndroma\")"
      ],
      "metadata": {
        "id": "9rTBxOtXkPDr",
        "colab": {
          "base_uri": "https://localhost:8080/"
        },
        "outputId": "12387880-1d1c-4b3f-b762-1458bd810dfb"
      },
      "execution_count": null,
      "outputs": [
        {
          "output_type": "stream",
          "name": "stdout",
          "text": [
            "Introduce una palabra: Ana\n",
            "La palabra es palíndroma\n"
          ]
        }
      ]
    },
    {
      "cell_type": "markdown",
      "source": [
        "🍀 **(6)** Se pide por teclado una frase, debe indicar cuantos espacios tiene."
      ],
      "metadata": {
        "id": "dQO7xtF3oBCN"
      }
    },
    {
      "cell_type": "code",
      "source": [
        "frase = input(\"Escribe una frase con espacios: \")\n",
        "\n",
        "print(\"La frase tiene\", len(frase.split(\" \"))-1, \"espacios\")"
      ],
      "metadata": {
        "id": "d4_vNcrsoZHK",
        "colab": {
          "base_uri": "https://localhost:8080/"
        },
        "outputId": "e6cc2e31-12e6-47c9-a271-1d08d831d1e8"
      },
      "execution_count": null,
      "outputs": [
        {
          "output_type": "stream",
          "name": "stdout",
          "text": [
            "Escribe una frase con espacios: hola a a a a a\n",
            "La frase tiene 5 espacios\n"
          ]
        }
      ]
    },
    {
      "cell_type": "markdown",
      "source": [
        "🍀 **(7)** Se pide una frase por teclado, debe indicar cuantas vocales, cuantas consonantes y cuantos números contiene."
      ],
      "metadata": {
        "id": "ZypvAh0HoZjI"
      }
    },
    {
      "cell_type": "code",
      "source": [
        "frase = input(\"Escribe una frase: \").lower()\n",
        "frase = frase.replace(\" \", \"\")\n",
        "listaVocales = [\"a\", \"e\", \"i\", \"o\", \"u\"]\n",
        "vocales = 0\n",
        "consonantes = 0\n",
        "numeros = 0\n",
        "\n",
        "for x in frase:\n",
        "  print(x)\n",
        "  if x.isdigit():\n",
        "    numeros += 1\n",
        "  elif x in listaVocales:\n",
        "    vocales += 1\n",
        "  else:\n",
        "    consonantes += 1\n",
        "\n",
        "print(\"La frase contiene %i vocales %i consonantes y %i números\" % (vocales, consonantes, numeros))"
      ],
      "metadata": {
        "id": "ZZjmzMitol3D",
        "colab": {
          "base_uri": "https://localhost:8080/"
        },
        "outputId": "81a3f82b-6391-475c-d063-76388176ad23"
      },
      "execution_count": null,
      "outputs": [
        {
          "output_type": "stream",
          "name": "stdout",
          "text": [
            "Escribe una frase: gus nais 69\n",
            "g\n",
            "u\n",
            "s\n",
            "n\n",
            "a\n",
            "i\n",
            "s\n",
            "6\n",
            "9\n",
            "La frase contiene 3 vocales 4 consonantes y 2 números\n"
          ]
        }
      ]
    },
    {
      "cell_type": "markdown",
      "source": [
        "# Level 2 💪💪"
      ],
      "metadata": {
        "id": "-fBOVS0SovFY"
      }
    },
    {
      "cell_type": "markdown",
      "source": [
        "🍀 **(8)** Dada la variable de tipo lista \"nombres\", crea un programa para mostrar los nombres en orden ascendente y luego en descendente."
      ],
      "metadata": {
        "id": "hC_EHyfDoxRz"
      }
    },
    {
      "cell_type": "code",
      "source": [
        "nombres=[\"Bradford\",\"Classie\",\"Casimira\",\"Adelina\",\"Joella\",\"Cassondra\",\"Agripina\",\"Tricia\",\"Ghislaine\"]\n",
        "nombres.sort()\n",
        "print(nombres)\n",
        "\n",
        "nombres.reverse()\n",
        "print(nombres)"
      ],
      "metadata": {
        "id": "BkAZybDtplwc",
        "colab": {
          "base_uri": "https://localhost:8080/"
        },
        "outputId": "a09e1c9c-96c8-4147-b18f-932b1f5617d0"
      },
      "execution_count": null,
      "outputs": [
        {
          "output_type": "stream",
          "name": "stdout",
          "text": [
            "['Adelina', 'Agripina', 'Bradford', 'Casimira', 'Cassondra', 'Classie', 'Ghislaine', 'Joella', 'Tricia']\n",
            "['Tricia', 'Joella', 'Ghislaine', 'Classie', 'Cassondra', 'Casimira', 'Bradford', 'Agripina', 'Adelina']\n"
          ]
        }
      ]
    },
    {
      "cell_type": "markdown",
      "source": [
        "🍀 **(9)** Se tiene la variable tipo lista \"valores\", hacer un programa que cambie a 0 todos los valores mayores de 10."
      ],
      "metadata": {
        "id": "We4RvfUApoOB"
      }
    },
    {
      "cell_type": "code",
      "source": [
        "valores=[[4,12,5,66], [14,6,25], [3,4,5,67,89,23,1], [78,56]]\n",
        "\n",
        "#Función recursiva\n",
        "def a_cero(lista):\n",
        "  for x in range(len(lista)):\n",
        "    if type(lista[x]) is list:\n",
        "      a_cero(lista[x])\n",
        "    else:\n",
        "      if lista[x]>10:\n",
        "        lista[x]=0\n",
        "\n",
        "a_cero(valores)\n",
        "print(valores)"
      ],
      "metadata": {
        "id": "MVuvJaUdqq_g",
        "colab": {
          "base_uri": "https://localhost:8080/"
        },
        "outputId": "eca5fde0-72be-4421-8421-df157b6e31ea"
      },
      "execution_count": null,
      "outputs": [
        {
          "output_type": "stream",
          "name": "stdout",
          "text": [
            "[[4, 0, 5, 0], [0, 6, 0], [3, 4, 5, 0, 0, 0, 1], [0, 0]]\n"
          ]
        }
      ]
    },
    {
      "cell_type": "markdown",
      "source": [
        "🍀 **(10)** Se tiene la variable tipo lista \"**valores2**\", hacer un programa que cambie a 0 todos los valores mayores de 10.\n"
      ],
      "metadata": {
        "id": "Wl533rRrqx-a"
      }
    },
    {
      "cell_type": "code",
      "source": [
        "valores2=[[4,12,5,66], [14,6,[100,7,85,8], [4,8,56,25],25], [3,4,5,67,[78,56],89,23,1], [78,56]]\n",
        "\n",
        "#Función recursiva\n",
        "def a_cero(lista):\n",
        "  for x in range(len(lista)):\n",
        "    if type(lista[x]) is list:\n",
        "      a_cero(lista[x])\n",
        "    else:\n",
        "      if lista[x]>10:\n",
        "        lista[x]=0\n",
        "\n",
        "a_cero(valores2)\n",
        "print(valores2)"
      ],
      "metadata": {
        "id": "9MDu_9wOrkWj",
        "colab": {
          "base_uri": "https://localhost:8080/"
        },
        "outputId": "0b21322d-23f7-4bd5-e44f-d16e130b8839"
      },
      "execution_count": null,
      "outputs": [
        {
          "output_type": "stream",
          "name": "stdout",
          "text": [
            "[[4, 0, 5, 0], [0, 6, [0, 7, 0, 8], [4, 8, 0, 0], 0], [3, 4, 5, 0, [0, 0], 0, 0, 1], [0, 0]]\n"
          ]
        }
      ]
    },
    {
      "cell_type": "markdown",
      "source": [
        "🍀 **(11)** Se tiene la variable tipo lista \"valores\", hacer un programa que ELIMINE todos los valores mayores de 10."
      ],
      "metadata": {
        "id": "nEpcJvmL-cyn"
      }
    },
    {
      "cell_type": "code",
      "source": [
        "valores=[[4,12,5,66], [14,6,25], [3,4,5,67,89,23,1], [78,56]]\n",
        "\n",
        "#Función recursiva\n",
        "def eliminar(lista):\n",
        "  for x in range(len(lista)-1, -1, -1):\n",
        "    if type(lista[x]) is list:\n",
        "      eliminar(lista[x])\n",
        "    else:\n",
        "      if lista[x]>10:\n",
        "        lista.pop(x)\n",
        "\n",
        "eliminar(valores)\n",
        "print(valores)"
      ],
      "metadata": {
        "id": "At6V2PBP-bFV",
        "colab": {
          "base_uri": "https://localhost:8080/"
        },
        "outputId": "1585e1c8-cd87-40fd-871e-5b21c09be0de"
      },
      "execution_count": null,
      "outputs": [
        {
          "output_type": "stream",
          "name": "stdout",
          "text": [
            "[[4, 5], [6], [3, 4, 5, 1], []]\n"
          ]
        }
      ]
    },
    {
      "cell_type": "markdown",
      "source": [
        "🍀 **(12)** Se tiene la variable tipo lista \"**valores2**\", hacer un programa que ELIMINE todos los valores mayores de 10.\n"
      ],
      "metadata": {
        "id": "sIIBgzuS-mG2"
      }
    },
    {
      "cell_type": "code",
      "source": [
        "valores2=[[4,12,5,66], [14,6,[100,7,85,8], [4,8,56,25],25], [3,4,5,67,[78,56],89,23,1], [78,56]]\n",
        "\n",
        "#Función recursiva\n",
        "def eliminar(lista):\n",
        "  for x in range(len(lista)-1, -1, -1):\n",
        "    if type(lista[x]) is list:\n",
        "      eliminar(lista[x])\n",
        "    else:\n",
        "      if lista[x]>10:\n",
        "        lista.pop(x)\n",
        "\n",
        "eliminar(valores2)\n",
        "print(valores2)"
      ],
      "metadata": {
        "id": "1wJBj-HA-zyJ",
        "colab": {
          "base_uri": "https://localhost:8080/"
        },
        "outputId": "60291b3e-24de-42c2-aa55-3e576321ffbb"
      },
      "execution_count": null,
      "outputs": [
        {
          "output_type": "stream",
          "name": "stdout",
          "text": [
            "[[4, 5], [6, [7, 8], [4, 8]], [3, 4, 5, [], 1], []]\n"
          ]
        }
      ]
    },
    {
      "cell_type": "markdown",
      "source": [
        "# Level 3 💪💪💪"
      ],
      "metadata": {
        "id": "QqosoC1R-4xG"
      }
    },
    {
      "cell_type": "markdown",
      "source": [
        "🍀 **(13)** Crear una función que pasandole dos numeros devuelva la suma y la multiplicación de ambos."
      ],
      "metadata": {
        "id": "p3ho9bYt-_fX"
      }
    },
    {
      "cell_type": "code",
      "source": [
        "# escribe aquí la función suma_multiplica\n",
        "def suma_multiplica(num1, num2):\n",
        "  return num1 + num2, num1 * num2"
      ],
      "metadata": {
        "id": "vIK05ZkZ_J-V"
      },
      "execution_count": null,
      "outputs": []
    },
    {
      "cell_type": "code",
      "source": [
        "# esta celda no se debe modificar, solo usar\n",
        "suma, multiplicacion = suma_multiplica(2,3)\n",
        "print(\"La suma es {} y la multimpliación {}\".format(suma, multiplicacion))"
      ],
      "metadata": {
        "id": "rJOIiLne_P_L",
        "colab": {
          "base_uri": "https://localhost:8080/"
        },
        "outputId": "59fe2137-acb9-476b-a78c-f40d6be451a8"
      },
      "execution_count": null,
      "outputs": [
        {
          "output_type": "stream",
          "name": "stdout",
          "text": [
            "La suma es 5 y la multimpliación 6\n"
          ]
        }
      ]
    },
    {
      "cell_type": "markdown",
      "source": [
        "🍀 **(14)** Crea una función que pasandole un parametro indique que tipo de parametro es."
      ],
      "metadata": {
        "id": "6GICrVTc_pao"
      }
    },
    {
      "cell_type": "code",
      "source": [
        "def identifica(param):\n",
        "  return print(\"El parámetro introducido es de tipo\", type(param))"
      ],
      "metadata": {
        "id": "iym2s6es_y0y"
      },
      "execution_count": null,
      "outputs": []
    },
    {
      "cell_type": "code",
      "source": [
        "# esta celda no se debe modificar, solo usar\n",
        "a=3\n",
        "identifica(a) # debe indicar que es de tipo numero\n",
        "b=[32]\n",
        "identifica(b) # debe indicar que es de tipo lista\n",
        "c=\"texto\"\n",
        "identifica(c) # debe indicar que es de tipo cadena"
      ],
      "metadata": {
        "id": "hSqJ1DFq_2Gj",
        "colab": {
          "base_uri": "https://localhost:8080/"
        },
        "outputId": "004d4932-33a8-4414-94e4-2c61317d2317"
      },
      "execution_count": null,
      "outputs": [
        {
          "output_type": "stream",
          "name": "stdout",
          "text": [
            "El parámetro introducido es de tipo <class 'int'>\n",
            "El parámetro introducido es de tipo <class 'list'>\n",
            "El parámetro introducido es de tipo <class 'str'>\n"
          ]
        }
      ]
    },
    {
      "cell_type": "markdown",
      "source": [
        "🍀 **(15)** Crea una función que reciba de  2 a muchos parametros (cualquier cantidad) y que devuelva la suma de ellos."
      ],
      "metadata": {
        "id": "QWRSY5DRAXbM"
      }
    },
    {
      "cell_type": "code",
      "source": [
        "def sumador(num1, num2, *args):\n",
        "  suma = num1 + num2\n",
        "\n",
        "  for x in args:\n",
        "    suma += x\n",
        "\n",
        "  return suma"
      ],
      "metadata": {
        "id": "OJinVqa-Aeu7"
      },
      "execution_count": null,
      "outputs": []
    },
    {
      "cell_type": "code",
      "source": [
        "# esta celda no se debe modificar, solo usar\n",
        "import random\n",
        "print(sumador(1,2))\n",
        "print(sumador(1,2,3,4,5))\n",
        "print(sumador(1,2,3,4,5,6,7,8,9,10,11,12,13,14,15,16,17,18,19,20,21,22,23,24,25,26,27,28,29,30,31,32))"
      ],
      "metadata": {
        "id": "2ButaCDdAhnD",
        "colab": {
          "base_uri": "https://localhost:8080/"
        },
        "outputId": "4077a4c2-8ab8-4cc6-b27b-b8a80654f714"
      },
      "execution_count": null,
      "outputs": [
        {
          "output_type": "stream",
          "name": "stdout",
          "text": [
            "3\n",
            "15\n",
            "528\n"
          ]
        }
      ]
    },
    {
      "cell_type": "markdown",
      "source": [
        "# Level 4 💪💪💪💪"
      ],
      "metadata": {
        "id": "c5vJN6f1CC7c"
      }
    },
    {
      "cell_type": "markdown",
      "source": [
        "🍀 **(16)** Obteniendo el JSON (diccionario) de internet, muestra el país y la ciudad, guardada en la información suministrada."
      ],
      "metadata": {
        "id": "ImM7H7z1CNAv"
      }
    },
    {
      "cell_type": "code",
      "source": [
        "#@title Ejecutar para prepara la variable \"datos\"\n",
        "# esta celda no se debe modificar, solo usar\n",
        "import json\n",
        "# obtener la información de la web\n",
        "resp_lista=!curl -s http://ifconfig.co/json\n",
        "# como lo devuelve linea a linea hay que convertirlo\n",
        "resp_str=\"\"\n",
        "# convertir la lista en un string\n",
        "for elem in resp_lista:\n",
        "  resp_str+=elem\n",
        "# convertir el string en un diccionario\n",
        "datos=json.loads(resp_str)\n",
        "# destruir las variables intermedias usadas\n",
        "del resp_str\n",
        "del resp_lista\n",
        "# la variable \"datos\" tiene la información"
      ],
      "metadata": {
        "id": "0fH7jyCJCsjJ"
      },
      "execution_count": 22,
      "outputs": []
    },
    {
      "cell_type": "code",
      "source": [
        "# escribe el codigo necesario para mostrar país y ciudad\n",
        "pais = \"País: \" + datos['country']\n",
        "ciudad = \"Ciudad: \" + datos['city']\n",
        "print(pais)\n",
        "print(ciudad)"
      ],
      "metadata": {
        "id": "cIxixR8aC90Y",
        "colab": {
          "base_uri": "https://localhost:8080/"
        },
        "outputId": "c28cfdf6-5305-4c52-ba7f-74ba85030332"
      },
      "execution_count": 25,
      "outputs": [
        {
          "output_type": "stream",
          "name": "stdout",
          "text": [
            "País: United States\n",
            "Ciudad: Washington\n"
          ]
        }
      ]
    },
    {
      "cell_type": "markdown",
      "source": [
        "🍀 **(17)** Obtener los siguientes datos a partir de la información recibida en la variables \"datos\":\n",
        "\n",
        "_1 Ciudad_\n",
        "\n",
        "_2 Hora del amanecer del día actual_\n",
        "\n",
        "_3 Hora del anochecer del día actual_\n",
        "\n",
        "_4 Temperatura en la primera hora a la que se ejecuta_\n",
        "\n"
      ],
      "metadata": {
        "id": "bAIPD5QIES6r"
      }
    },
    {
      "cell_type": "code",
      "source": [
        "#@title Ejecutar para preparar la variable \"datos\"\n",
        "# esta celda no se debe modificar, solo usar\n",
        "import json\n",
        "# obtener la información\n",
        "resp=!curl \"https://api.tutiempo.net/json/?lan=es&apid=zwDX4azaz4X4Xqs&ll=37.3383,-5.84403\"\n",
        "# se obtiene en forma de lista con un elemento string\n",
        "# convertimos ese estring en formato diccionario\n",
        "datos=json.loads(resp[0])"
      ],
      "metadata": {
        "id": "DHw8BwysETan"
      },
      "execution_count": 28,
      "outputs": []
    },
    {
      "cell_type": "code",
      "source": [
        "# escribe el codigo necesario para mostrar los 4 datos pedidos\n",
        "ciudad = \"Ciudad: \" + datos['locality']['country']\n",
        "amanecer = \"Hora del amanecer: \" + datos['day3']['sunrise']\n",
        "anochecer = \"Hora del anochecer: \" + datos['day3']['sunset']\n",
        "temperatura = \"Temperatura a primera hora: \" + str(datos['hour_hour']['hour1']['temperature'])\n",
        "print(ciudad + \"\\n\" + amanecer + \"\\n\" + anochecer + \"\\n\" + str(temperatura))\n"
      ],
      "metadata": {
        "id": "6L96ei0TjX1V",
        "colab": {
          "base_uri": "https://localhost:8080/"
        },
        "outputId": "4ac89f8d-0816-4ddf-ccfc-2def373b6bc5"
      },
      "execution_count": 45,
      "outputs": [
        {
          "output_type": "stream",
          "name": "stdout",
          "text": [
            "Ciudad: España\n",
            "Hora del amanecer: 8:20\n",
            "Hora del anochecer: 18:56\n",
            "Temperatura a primera hora: 10\n"
          ]
        }
      ]
    }
  ]
}